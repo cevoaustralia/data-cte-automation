{
 "cells": [
  {
   "cell_type": "code",
   "execution_count": 1,
   "metadata": {},
   "outputs": [],
   "source": [
    "import pandas as pd"
   ]
  },
  {
   "cell_type": "code",
   "execution_count": 2,
   "metadata": {},
   "outputs": [],
   "source": [
    "# storing csv path \n",
    "product_csv = \"../csv/products.csv\"\n",
    "output_sql = \"../sql/output.sql\""
   ]
  },
  {
   "cell_type": "code",
   "execution_count": 11,
   "metadata": {},
   "outputs": [
    {
     "name": "stdout",
     "output_type": "stream",
     "text": [
      "Please find the SQL script at the path ../sql/output.sql\n"
     ]
    }
   ],
   "source": [
    "def get_cte(csv_path, table_name):\n",
    "    \"\"\"\n",
    "    Generates a Common Table Expression (CTE) SQL query from a CSV file.\n",
    "\n",
    "    Args:\n",
    "        csv_path (str): The file path to the CSV file.\n",
    "        table_name (str): The desired name for the CTE table.\n",
    "\n",
    "    Returns:\n",
    "        str: A CTE SQL query string that can be used to create a temporary table\n",
    "             with the data from the CSV file.\n",
    "    \"\"\"\n",
    "    \n",
    "    df_csv = pd.read_csv(csv_path)\n",
    "    # Determining the Column Names \n",
    "    column_names = ', '.join(df_csv.columns.to_list())\n",
    "\n",
    "    sql_values = []\n",
    "    for index, row in df_csv.iterrows():\n",
    "        values_str = \"(\" + \", \".join([str(val) if isinstance(val, (int, float)) else f\"'{val}'\" for val in row.values]) + \")\"\n",
    "        sql_values.append(values_str)\n",
    "\n",
    "    values_statement = \",\\n\".join(sql_values)\n",
    "\n",
    "    cte_query = f\"\"\"\n",
    "WITH {table_name} ({column_names}) AS (\n",
    "VALUES \n",
    "{values_statement}\n",
    ")\n",
    "SELECT * FROM temp_product tp\n",
    "    \"\"\"\n",
    "    return cte_query\n",
    "\n",
    "sql_file = open(output_sql, \"w\")\n",
    "sql_file.write(get_cte(product_csv, 'temp_product'))\n",
    "sql_file.close()\n",
    "\n",
    "print(f\"Please find the SQL script at the path {output_sql}\")"
   ]
  }
 ],
 "metadata": {
  "kernelspec": {
   "display_name": "python-AyvvGRMD",
   "language": "python",
   "name": "python3"
  },
  "language_info": {
   "codemirror_mode": {
    "name": "ipython",
    "version": 3
   },
   "file_extension": ".py",
   "mimetype": "text/x-python",
   "name": "python",
   "nbconvert_exporter": "python",
   "pygments_lexer": "ipython3",
   "version": "3.11.1"
  }
 },
 "nbformat": 4,
 "nbformat_minor": 2
}
